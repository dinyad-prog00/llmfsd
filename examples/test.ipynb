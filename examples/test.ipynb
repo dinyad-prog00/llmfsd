{
 "cells": [
  {
   "cell_type": "code",
   "execution_count": 1,
   "metadata": {},
   "outputs": [],
   "source": [
    "import sqlparse\n",
    "raw = 'select * from foo; select * from bar;'"
   ]
  },
  {
   "cell_type": "code",
   "execution_count": null,
   "metadata": {},
   "outputs": [
    {
     "data": {
      "text/plain": [
       "[<DML 'select' at 0x10649B520>,\n",
       " <Whitespace ' ' at 0x10663EB60>,\n",
       " <Whitespace ' ' at 0x10663EFE0>,\n",
       " <Whitespace ' ' at 0x10663F040>,\n",
       " <Wildcard '*' at 0x10663F100>,\n",
       " <Whitespace ' ' at 0x10663F160>,\n",
       " <Keyword 'from' at 0x10663F1C0>,\n",
       " <Whitespace ' ' at 0x10663F220>,\n",
       " <Identifier 'foo' at 0x106661CD0>]"
      ]
     },
     "execution_count": 6,
     "metadata": {},
     "output_type": "execute_result"
    }
   ],
   "source": [
    "parsed = sqlparse.parse('select * from foo')[0]\n",
    "parsed.tokens"
   ]
  }
 ],
 "metadata": {
  "kernelspec": {
   "display_name": "base",
   "language": "python",
   "name": "python3"
  },
  "language_info": {
   "codemirror_mode": {
    "name": "ipython",
    "version": 3
   },
   "file_extension": ".py",
   "mimetype": "text/x-python",
   "name": "python",
   "nbconvert_exporter": "python",
   "pygments_lexer": "ipython3",
   "version": "3.11.5"
  }
 },
 "nbformat": 4,
 "nbformat_minor": 2
}
