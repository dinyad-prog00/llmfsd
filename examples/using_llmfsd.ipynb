{
 "cells": [
  {
   "cell_type": "code",
   "execution_count": 1,
   "metadata": {},
   "outputs": [
    {
     "data": {
      "text/plain": [
       "True"
      ]
     },
     "execution_count": 1,
     "metadata": {},
     "output_type": "execute_result"
    }
   ],
   "source": [
    "from dotenv import load_dotenv\n",
    "import pandas as pd\n",
    "\n",
    "load_dotenv()"
   ]
  },
  {
   "cell_type": "code",
   "execution_count": 13,
   "metadata": {},
   "outputs": [
    {
     "name": "stdout",
     "output_type": "stream",
     "text": [
      "[{'id': 1, 'name': 'Samsung Galaxy'}, {'id': 2, 'name': 'Apple iPhone'}, {'id': 3, 'name': 'Google Pixel'}]\n",
      "title,year\n",
      "\"The Secret Garden\",2020\n",
      "\"Pride and Prejudice\",1813\n",
      "\"To Kill a Mockingbird\",1960\n"
     ]
    }
   ],
   "source": [
    "from llmfsd import Faker, DataModel\n",
    "\n",
    "model_id = \"mistral:open-mixtral-8x7b\"\n",
    "faker = Faker(model_id)\n",
    "print(faker.json(\"select id, name from phone_brands limit 3\"))\n",
    "print(faker.csv(\"select title, year from books limit 3\"))"
   ]
  },
  {
   "cell_type": "code",
   "execution_count": 14,
   "metadata": {},
   "outputs": [
    {
     "name": "stdout",
     "output_type": "stream",
     "text": [
      "[{'content': \"Pourquoi les souris aiment les ordinateurs ? Parce qu'on y trouve des fromages logiques.\"}, {'content': 'Quel est le réseau social préféré des poules ? Coq-toi !'}, {'content': 'Pourquoi les canards mettent une cravate ? Pour aligner leurs canards-drapeaux.'}]\n"
     ]
    }
   ],
   "source": [
    "faker2 = Faker(model_id, lang=\"french\")\n",
    "print(faker2.json(\"select content from jokes limit 3\"))"
   ]
  },
  {
   "cell_type": "code",
   "execution_count": 3,
   "metadata": {},
   "outputs": [],
   "source": [
    "model = DataModel(\"cars\", {\"id\": \"uuid string\", \"name\": None, \"price\": None})\n",
    "faker3 = Faker(model_id, data_models=[model])\n",
    "faker3.csv(\"select * from cars limit 6\", output=\"cars.csv\")"
   ]
  },
  {
   "cell_type": "code",
   "execution_count": 4,
   "metadata": {},
   "outputs": [
    {
     "data": {
      "text/html": [
       "<div>\n",
       "<style scoped>\n",
       "    .dataframe tbody tr th:only-of-type {\n",
       "        vertical-align: middle;\n",
       "    }\n",
       "\n",
       "    .dataframe tbody tr th {\n",
       "        vertical-align: top;\n",
       "    }\n",
       "\n",
       "    .dataframe thead th {\n",
       "        text-align: right;\n",
       "    }\n",
       "</style>\n",
       "<table border=\"1\" class=\"dataframe\">\n",
       "  <thead>\n",
       "    <tr style=\"text-align: right;\">\n",
       "      <th></th>\n",
       "      <th>id</th>\n",
       "      <th>name</th>\n",
       "      <th>price</th>\n",
       "    </tr>\n",
       "  </thead>\n",
       "  <tbody>\n",
       "    <tr>\n",
       "      <th>0</th>\n",
       "      <td>550e8400-e29b-41d4-a716-446655440000</td>\n",
       "      <td>Toyota Corolla</td>\n",
       "      <td>25000</td>\n",
       "    </tr>\n",
       "    <tr>\n",
       "      <th>1</th>\n",
       "      <td>6dcc1f38-7856-4424-a0c0-7f262e489520</td>\n",
       "      <td>Honda Civic</td>\n",
       "      <td>22000</td>\n",
       "    </tr>\n",
       "    <tr>\n",
       "      <th>2</th>\n",
       "      <td>8e2a449a-b3e9-4f73-9f88-447f8e2a449a</td>\n",
       "      <td>Ford Mustang</td>\n",
       "      <td>35000</td>\n",
       "    </tr>\n",
       "    <tr>\n",
       "      <th>3</th>\n",
       "      <td>2b93d7e4-a4e8-478f-80f9-447f8e2a449a</td>\n",
       "      <td>Chevrolet Malibu</td>\n",
       "      <td>28000</td>\n",
       "    </tr>\n",
       "    <tr>\n",
       "      <th>4</th>\n",
       "      <td>7f8e2a44-9a2b-449a-b3e9-4f739f88447f</td>\n",
       "      <td>Nissan Altima</td>\n",
       "      <td>23000</td>\n",
       "    </tr>\n",
       "  </tbody>\n",
       "</table>\n",
       "</div>"
      ],
      "text/plain": [
       "                                     id              name  price\n",
       "0  550e8400-e29b-41d4-a716-446655440000    Toyota Corolla  25000\n",
       "1  6dcc1f38-7856-4424-a0c0-7f262e489520       Honda Civic  22000\n",
       "2  8e2a449a-b3e9-4f73-9f88-447f8e2a449a      Ford Mustang  35000\n",
       "3  2b93d7e4-a4e8-478f-80f9-447f8e2a449a  Chevrolet Malibu  28000\n",
       "4  7f8e2a44-9a2b-449a-b3e9-4f739f88447f     Nissan Altima  23000"
      ]
     },
     "execution_count": 4,
     "metadata": {},
     "output_type": "execute_result"
    }
   ],
   "source": [
    "data = pd.read_csv(\"cars.csv\")\n",
    "data.head()"
   ]
  }
 ],
 "metadata": {
  "kernelspec": {
   "display_name": "base",
   "language": "python",
   "name": "python3"
  },
  "language_info": {
   "codemirror_mode": {
    "name": "ipython",
    "version": 3
   },
   "file_extension": ".py",
   "mimetype": "text/x-python",
   "name": "python",
   "nbconvert_exporter": "python",
   "pygments_lexer": "ipython3",
   "version": "3.11.5"
  }
 },
 "nbformat": 4,
 "nbformat_minor": 2
}
